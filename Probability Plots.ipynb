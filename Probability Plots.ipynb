{
 "cells": [
  {
   "cell_type": "code",
   "execution_count": null,
   "metadata": {},
   "outputs": [],
   "source": [
    "from ipywidgets import interact\n",
    "import matplotlib.pyplot as plt\n",
    "%matplotlib inline\n",
    "import numpy as np\n",
    "import math\n",
    "from scipy import stats"
   ]
  },
  {
   "cell_type": "markdown",
   "metadata": {},
   "source": [
    "### Bayes' Rule Calculations! "
   ]
  },
  {
   "cell_type": "markdown",
   "metadata": {},
   "source": [
    "Let's walk through the Bayes' Rule example from class. The question is:\n",
    "\n",
    "> Let’s say that you are worried that you have a rare disease. The disease occurs in 1 out of 10,000 people. The test has a success rate of 99%.\n",
    "\n",
    "$$ P(test_{positive}| Disease) = .99$$\n",
    "$$P(test_{negative}| Not Disease) = .99$$\n"
   ]
  },
  {
   "cell_type": "markdown",
   "metadata": {},
   "source": [
    "If the test is positive, what is your chance of having the disease? "
   ]
  },
  {
   "cell_type": "markdown",
   "metadata": {},
   "source": [
    "1. Write out the quantity that we are trying to calculate: "
   ]
  },
  {
   "cell_type": "markdown",
   "metadata": {},
   "source": [
    "$$ P(Disease | test_{positive}) $$ "
   ]
  },
  {
   "cell_type": "markdown",
   "metadata": {},
   "source": [
    "2. Write out the Bayes' Rule Formulation "
   ]
  },
  {
   "cell_type": "markdown",
   "metadata": {},
   "source": [
    "$$P(Disease | test_{positive}) = \\frac{P(test_{positive} | Disease)P(Disease)}{P(test_{positive})} $$"
   ]
  },
  {
   "cell_type": "markdown",
   "metadata": {},
   "source": [
    "3. Use the Law of Total Probability to calculate the probability of having a positive test\n"
   ]
  },
  {
   "cell_type": "markdown",
   "metadata": {
    "slideshow": {
     "slide_type": "slide"
    }
   },
   "source": [
    "$$P(test_{positive}) = p(test_{positive}|Disease)*P(Disease) + p(test_{positive}|not disease) * p(not disease)$$"
   ]
  },
  {
   "cell_type": "markdown",
   "metadata": {},
   "source": [
    "Now answer, what is your chance of having the disease? "
   ]
  },
  {
   "cell_type": "code",
   "execution_count": null,
   "metadata": {},
   "outputs": [],
   "source": []
  },
  {
   "cell_type": "markdown",
   "metadata": {},
   "source": [
    "### Probability Density Function -- Normal/Gaussian Distribution "
   ]
  },
  {
   "cell_type": "markdown",
   "metadata": {},
   "source": [
    "$$f(x;\\mu, \\sigma) = \\frac{1}{\\sqrt{(2\\pi\\sigma^2)}}exp(-\\frac{1}{2}(\\frac{x-\\mu}{\\sigma})^2)$$"
   ]
  },
  {
   "cell_type": "markdown",
   "metadata": {},
   "source": [
    "> As an exercise, complete the function below such that it returns the function above evaluated at a particular value x, $\\mu$ (mean), and $\\sigma$ (standard deviation)"
   ]
  },
  {
   "cell_type": "code",
   "execution_count": null,
   "metadata": {},
   "outputs": [],
   "source": [
    "np.mean() # Mean\n",
    "np.std() # Standard Deviation\n",
    "np.abs() # Absolute Value\n",
    "math.pi # Pi\n",
    "np.sqrt() # Square root\n",
    "np.exp() # e^(x)"
   ]
  },
  {
   "cell_type": "code",
   "execution_count": null,
   "metadata": {},
   "outputs": [],
   "source": [
    "def normal_pdf(x, mean, std):\n",
    "    \"\"\"\n",
    "    Given a value of x, return the evaluation of the probability density function \n",
    "    for a Gaussian/Normal distribution with mean `mean` and standard deviation `std`\n",
    "    \"\"\"\n",
    "    return res"
   ]
  },
  {
   "cell_type": "markdown",
   "metadata": {},
   "source": [
    "> Now, you should be able to run the function below to make a cool interactive plot that will allow you to play with the distribution and see the effect that different parameter settings have. Feel free to modify this in any way that you want!"
   ]
  },
  {
   "cell_type": "code",
   "execution_count": null,
   "metadata": {
    "scrolled": true
   },
   "outputs": [],
   "source": [
    "@interact(mean=(-10, 10, 0.05), std=(1, 10, 0.05))\n",
    "def plot_pdf(mean=0, std=1):\n",
    "    x = np.linspace(-(np.abs(mean) + std*5),(np.abs(mean) + std*5) , 10000)\n",
    "    y = normal_pdf(x, mean, std)\n",
    "    plt.plot(x, y)"
   ]
  }
 ],
 "metadata": {
  "celltoolbar": "Slideshow",
  "kernelspec": {
   "display_name": "Python 3",
   "language": "python",
   "name": "python3"
  },
  "language_info": {
   "codemirror_mode": {
    "name": "ipython",
    "version": 3
   },
   "file_extension": ".py",
   "mimetype": "text/x-python",
   "name": "python",
   "nbconvert_exporter": "python",
   "pygments_lexer": "ipython3",
   "version": "3.8.5"
  }
 },
 "nbformat": 4,
 "nbformat_minor": 2
}
